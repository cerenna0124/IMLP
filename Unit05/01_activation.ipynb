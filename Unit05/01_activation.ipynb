{
 "cells": [
  {
   "cell_type": "markdown",
   "metadata": {},
   "source": [
    "# 激活函數\n",
    "```\n",
    "step01 - 定義sigmoid函式\n",
    "step02 - 建立資料(x = -5~5中間每隔0.1，創建一個點)\n",
    "step03 - 將各點x激活sigmoid -> y\n",
    "step04 - 劃出圖形\n",
    "```"
   ]
  },
  {
   "cell_type": "markdown",
   "metadata": {},
   "source": [
    "## sigmoid \n"
   ]
  },
  {
   "cell_type": "code",
   "execution_count": 1,
   "metadata": {},
   "outputs": [],
   "source": [
    "import numpy as np\n",
    "import matplotlib.pylab as plt\n",
    "import time\n",
    "\n",
    "def sigmoid(z):\n",
    "    return 1 / ( 1  + np.exp(-z) )\n",
    "    "
   ]
  },
  {
   "cell_type": "code",
   "execution_count": 9,
   "metadata": {},
   "outputs": [
    {
     "data": {
      "text/plain": [
       "array([-5. , -4.9, -4.8, ..., 99.7, 99.8, 99.9])"
      ]
     },
     "execution_count": 9,
     "metadata": {},
     "output_type": "execute_result"
    }
   ],
   "source": [
    "# -5~5中間每隔0.1，創建一個點\n",
    "start = time.time()\n",
    "X = np.arange(-5.0, 100, 0.1)\n",
    "X"
   ]
  },
  {
   "cell_type": "code",
   "execution_count": 10,
   "metadata": {},
   "outputs": [
    {
     "data": {
      "text/plain": [
       "array([0.00669285, 0.00739154, 0.00816257, ..., 1.        , 1.        ,\n",
       "       1.        ])"
      ]
     },
     "execution_count": 10,
     "metadata": {},
     "output_type": "execute_result"
    }
   ],
   "source": [
    "Y = sigmoid(X)\n",
    "Y"
   ]
  },
  {
   "cell_type": "code",
   "execution_count": 11,
   "metadata": {},
   "outputs": [
    {
     "data": {
      "image/png": "[encoded data removed]",
      "text/plain": [
       "<Figure size 432x288 with 1 Axes>"
      ]
     },
     "metadata": {
      "needs_background": "light"
     },
     "output_type": "display_data"
    },
    {
     "name": "stdout",
     "output_type": "stream",
     "text": [
      "It cost 0.000000 sec\n"
     ]
    }
   ],
   "source": [
    "start = time.time()\n",
    "X = np.arange(-5.0, 100, 0.1)\n",
    "Y = sigmoid(X)\n",
    "now = time.time()\n",
    "plt.plot(X, Y)\n",
    "plt.ylim(-0.1, 1.1)\n",
    "plt.show()\n",
    "print(\"It cost %f sec\" % (now-start))\n"
   ]
  },
  {
   "cell_type": "markdown",
   "metadata": {},
   "source": [
    "## Tangent\n",
    "$$ -1\\leq  tanh(z)\\leq 1$$"
   ]
  },
  {
   "cell_type": "markdown",
   "metadata": {},
   "source": [
    "公式：\n",
    "$$z=tanh(z)=\\frac{e^{z}-e^{-z}}{e^{z}+e^{-z}} \\quad$$\n",
    "    \n",
    "優點就是與 sigmoid 的區別是，tanh 解決了sigmoid的輸出非「零為中心」的問題，因此實際應用中 tanh 會比 sigmoid 更好。<br>\n",
    "\n",
    "缺點類似sigmoid，雖然收斂速度相對快了，但也存在梯度彌散，而且也有冪計算，相對耗時。"
   ]
  },
  {
   "cell_type": "code",
   "execution_count": 5,
   "metadata": {},
   "outputs": [],
   "source": [
    "def tangent(x):\n",
    "    return (np.exp(x)-np.exp(-x)) / (np.exp(x) + np.exp(-x))"
   ]
  },
  {
   "cell_type": "code",
   "execution_count": 12,
   "metadata": {},
   "outputs": [
    {
     "data": {
      "image/png": "[encoded data removed]",
      "text/plain": [
       "<Figure size 432x288 with 1 Axes>"
      ]
     },
     "metadata": {
      "needs_background": "light"
     },
     "output_type": "display_data"
    },
    {
     "name": "stdout",
     "output_type": "stream",
     "text": [
      "It cost 0.000995 sec\n"
     ]
    }
   ],
   "source": [
    "start = time.time()\n",
    "x = np.arange(-5.0, 100, 0.1)\n",
    "y = tangent(x)\n",
    "now = time.time()\n",
    "plt.plot(x, y)\n",
    "plt.ylim(-1.1, 1.1)\n",
    "plt.show()\n",
    "print(\"It cost %f sec\" % (now-start))"
   ]
  },
  {
   "cell_type": "markdown",
   "metadata": {},
   "source": [
    "## Relu\n",
    "$$relu=max(0,z)$$\n",
    "優點：\n",
    "* SGD算法的收斂速度比 sigmoid 和 tanh 快；（梯度不會飽和，解決了梯度消失問題）\n",
    "* 計算復雜度低，不需要進行指數運算；\n",
    "* 適合用於後向傳播。\n",
    "\n",
    "缺點：\n",
    "\n",
    "* ReLU的輸出不是zero-centered；\n",
    "* Dead ReLU Problem（神經元壞死現象）：某些神經元可能永遠不會被激活，導致相應參數永遠不會被更新（在負數部分，梯度為0）。產生這種現象的兩個原因：參數初始化問題；learning rate太高導致在訓練過程中參數更新太大。 避免將learning rate設置太大或使用自動調節learning rate的算法。"
   ]
  },
  {
   "cell_type": "code",
   "execution_count": 7,
   "metadata": {},
   "outputs": [],
   "source": [
    "def relu(x):\n",
    "    return np.maximum(0,x)\n",
    "    '''\n",
    "    for i in range(len(x)):\n",
    "        if x[i] < 0:\n",
    "            x[i]=0\n",
    "    return x\n",
    "    '''"
   ]
  },
  {
   "cell_type": "code",
   "execution_count": 13,
   "metadata": {
    "scrolled": true
   },
   "outputs": [
    {
     "data": {
      "image/png": "[encoded data removed]",
      "text/plain": [
       "<Figure size 432x288 with 1 Axes>"
      ]
     },
     "metadata": {
      "needs_background": "light"
     },
     "output_type": "display_data"
    },
    {
     "name": "stdout",
     "output_type": "stream",
     "text": [
      "It cost 0.000000 sec\n"
     ]
    }
   ],
   "source": [
    "start = time.time()\n",
    "x = np.arange(-5.0, 100, 0.1)\n",
    "y = relu(x)\n",
    "now = time.time()\n",
    "plt.plot(x, y)\n",
    "plt.ylim(-1.0, 5.5)\n",
    "plt.show()\n",
    "print(\"It cost %f sec\" % (now-start))"
   ]
  },
  {
   "cell_type": "code",
   "execution_count": null,
   "metadata": {},
   "outputs": [],
   "source": []
  }
 ],
 "metadata": {
  "kernelspec": {
   "display_name": "Python 3",
   "language": "python",
   "name": "python3"
  },
  "language_info": {
   "codemirror_mode": {
    "name": "ipython",
    "version": 3
   },
   "file_extension": ".py",
   "mimetype": "text/x-python",
   "name": "python",
   "nbconvert_exporter": "python",
   "pygments_lexer": "ipython3",
   "version": "3.7.4"
  }
 },
 "nbformat": 4,
 "nbformat_minor": 2
}
